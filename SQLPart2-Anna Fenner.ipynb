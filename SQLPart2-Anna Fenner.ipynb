{
 "cells": [
  {
   "cell_type": "code",
   "execution_count": 2,
   "id": "13928b13",
   "metadata": {},
   "outputs": [],
   "source": [
    "import sqlite3\n",
    "conn = sqlite3.connect('sqlite_db_pythonsqlite.db')\n",
    "cur = conn.cursor()"
   ]
  },
  {
   "cell_type": "code",
   "execution_count": 3,
   "id": "3e1d67bf",
   "metadata": {},
   "outputs": [
    {
     "name": "stdout",
     "output_type": "stream",
     "text": [
      "('Table Tennis', 180)\n",
      "('Snooker Table', 240)\n",
      "('Pool Table', 270)\n"
     ]
    }
   ],
   "source": [
    "#question 10\n",
    "\n",
    "query10 = \"\"\"\n",
    "       SELECT sub.name AS facility_name, SUM(facility_revenue) AS total_facility_revenue\n",
    "FROM \n",
    "(SELECT name, CASE WHEN memid = 0 THEN guestcost * slots ELSE membercost * slots END AS facility_revenue \n",
    "FROM Bookings as b \n",
    "JOIN Facilities as f \n",
    "USING (facid)) AS sub \n",
    "GROUP BY name\n",
    "ORDER BY total_facility_revenue\n",
    "LIMIT 3;\n",
    "        \"\"\"\n",
    "cur.execute(query10)\n",
    " \n",
    "rows = cur.fetchall()\n",
    " \n",
    "for row in rows:\n",
    "    print(row)\n"
   ]
  },
  {
   "cell_type": "code",
   "execution_count": 4,
   "id": "1b4426b3",
   "metadata": {},
   "outputs": [
    {
     "name": "stdout",
     "output_type": "stream",
     "text": [
      "('Anna Mackenzie', None)\n",
      "('Anne Baker', None)\n",
      "('Burton Tracy', 'Ponder Tracy')\n",
      "('Charles Owen', None)\n",
      "('Darren Smith', 'Janice Smith')\n",
      "('Darren Smith', 'Gerald Smith')\n",
      "('Darren Smith', 'Charles Smith')\n",
      "('Darren Smith', 'Jack Smith')\n",
      "('Darren Smith', 'Anna Smith')\n",
      "('Darren Smith', None)\n",
      "('David Farrell', None)\n",
      "('David Jones', 'Douglas Jones')\n",
      "('David Pinker', None)\n",
      "('Douglas Jones', None)\n",
      "('Erica Crumpet', None)\n",
      "('Florence Bader', 'Ramnaresh Bader')\n",
      "('GUEST GUEST', None)\n",
      "('Gerald Butters', 'Matthew Butters')\n",
      "('Henrietta Rumney', None)\n",
      "('Henry Worthington-Smyth', None)\n",
      "('Hyacinth Tupperware', None)\n",
      "('Jack Smith', None)\n",
      "('Janice Joplette', 'Nancy Joplette')\n",
      "('Janice Joplette', 'David Joplette')\n",
      "('Jemima Farrell', 'Timothy Farrell')\n",
      "('Jemima Farrell', 'David Farrell')\n",
      "('Joan Coplin', None)\n",
      "('John Hunt', None)\n",
      "('Matthew Genting', 'Henrietta Genting')\n",
      "('Millicent Purview', 'John Purview')\n",
      "('Nancy Dare', None)\n",
      "('Ponder Stibbons', 'Anne Stibbons')\n",
      "('Ponder Stibbons', 'Florence Stibbons')\n",
      "('Ramnaresh Sarwin', None)\n",
      "('Tim Boothe', None)\n",
      "('Tim Rownam', 'Tim Rownam')\n",
      "('Timothy Baker', 'Joan Baker')\n",
      "('Tracy Smith', 'Henry Smith')\n",
      "('Tracy Smith', 'Millicent Smith')\n",
      "('Tracy Smith', 'Erica Smith')\n"
     ]
    }
   ],
   "source": [
    "#question 11\n",
    "query11 = \"\"\"\n",
    "         SELECT (m1.firstname || ' ' || m1.surname) AS first_last_name, (m2.firstname || ' ' || m1.surname) AS member_who_recommended\n",
    "        FROM Members AS m1\n",
    "        LEFT JOIN Members AS m2\n",
    "        ON m1.memid = m2.recommendedby\n",
    "        ORDER BY first_last_name ASC;\n",
    " \"\"\"\n",
    " \n",
    "cur.execute(query11)\n",
    " \n",
    "rows = cur.fetchall()\n",
    " \n",
    "for row in rows:\n",
    "    print(row)\n",
    "        \n"
   ]
  },
  {
   "cell_type": "code",
   "execution_count": 5,
   "id": "17bf10da",
   "metadata": {},
   "outputs": [
    {
     "name": "stdout",
     "output_type": "stream",
     "text": [
      "(0, 'Tennis Court 1', 308)\n",
      "(1, 'Tennis Court 2', 276)\n",
      "(2, 'Badminton Court', 344)\n",
      "(3, 'Table Tennis', 385)\n",
      "(4, 'Massage Room 1', 421)\n",
      "(5, 'Massage Room 2', 27)\n",
      "(6, 'Squash Court', 195)\n",
      "(7, 'Snooker Table', 421)\n",
      "(8, 'Pool Table', 783)\n"
     ]
    }
   ],
   "source": [
    "#question 12\n",
    "query12 = \"\"\"\n",
    "       SELECT facid, \n",
    "(SELECT name\n",
    " FROM Facilities\n",
    " WHERE Facilities.facid = Bookings.facid) AS facility_name, COUNT(memid) AS facility_member_usage\n",
    "FROM Bookings\n",
    "WHERE memid !=0\n",
    "GROUP BY facid;\n",
    "\n",
    "        \"\"\"\n",
    "cur.execute(query12)\n",
    " \n",
    "rows = cur.fetchall()\n",
    " \n",
    "for row in rows:\n",
    "    print(row)\n"
   ]
  },
  {
   "cell_type": "code",
   "execution_count": 8,
   "id": "e65519a3",
   "metadata": {},
   "outputs": [
    {
     "name": "stdout",
     "output_type": "stream",
     "text": [
      "('07', 480)\n",
      "('08', 1168)\n",
      "('09', 1512)\n"
     ]
    }
   ],
   "source": [
    "#question 13\n",
    "query13 = \"\"\"\n",
    "       SELECT STRFTIME('%m', starttime) AS months, COUNT(memid) AS facility_usage\n",
    "FROM Bookings\n",
    "WHERE memid !=0\n",
    "GROUP BY months;\n",
    "        \"\"\"\n",
    "cur.execute(query13)\n",
    " \n",
    "rows = cur.fetchall()\n",
    " \n",
    "for row in rows:\n",
    "    print(row)\n",
    "\n",
    "\n"
   ]
  },
  {
   "cell_type": "code",
   "execution_count": null,
   "id": "ea65f006",
   "metadata": {},
   "outputs": [],
   "source": []
  }
 ],
 "metadata": {
  "kernelspec": {
   "display_name": "Python 3 (ipykernel)",
   "language": "python",
   "name": "python3"
  },
  "language_info": {
   "codemirror_mode": {
    "name": "ipython",
    "version": 3
   },
   "file_extension": ".py",
   "mimetype": "text/x-python",
   "name": "python",
   "nbconvert_exporter": "python",
   "pygments_lexer": "ipython3",
   "version": "3.10.9"
  }
 },
 "nbformat": 4,
 "nbformat_minor": 5
}
